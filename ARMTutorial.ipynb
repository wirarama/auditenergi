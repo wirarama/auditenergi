{
  "nbformat": 4,
  "nbformat_minor": 0,
  "metadata": {
    "kernelspec": {
      "display_name": "Python 3",
      "language": "python",
      "name": "python3"
    },
    "language_info": {
      "codemirror_mode": {
        "name": "ipython",
        "version": 3
      },
      "file_extension": ".py",
      "mimetype": "text/x-python",
      "name": "python",
      "nbconvert_exporter": "python",
      "pygments_lexer": "ipython3",
      "version": "3.7.3"
    },
    "colab": {
      "name": "ARMTutorial.ipynb",
      "provenance": [],
      "collapsed_sections": [],
      "include_colab_link": true
    }
  },
  "cells": [
    {
      "cell_type": "markdown",
      "metadata": {
        "id": "view-in-github",
        "colab_type": "text"
      },
      "source": [
        "<a href=\"https://colab.research.google.com/github/wirarama/auditenergi/blob/master/ARMTutorial.ipynb\" target=\"_parent\"><img src=\"https://colab.research.google.com/assets/colab-badge.svg\" alt=\"Open In Colab\"/></a>"
      ]
    },
    {
      "cell_type": "code",
      "metadata": {
        "id": "2wiwm8NePnFo",
        "colab_type": "code",
        "colab": {}
      },
      "source": [
        "import numpy as np\n",
        "import pandas as pd"
      ],
      "execution_count": 0,
      "outputs": []
    },
    {
      "cell_type": "code",
      "metadata": {
        "id": "M7ynU1_fQp7-",
        "colab_type": "code",
        "colab": {}
      },
      "source": [
        "!pip install -U -q PyDrive\n",
        "from pydrive.auth import GoogleAuth\n",
        "from pydrive.drive import GoogleDrive\n",
        "from google.colab import auth\n",
        "from oauth2client.client import GoogleCredentials\n",
        "\n",
        "auth.authenticate_user()\n",
        "gauth = GoogleAuth()\n",
        "gauth.credentials = GoogleCredentials.get_application_default()\n",
        "drive = GoogleDrive(gauth)"
      ],
      "execution_count": 0,
      "outputs": []
    },
    {
      "cell_type": "code",
      "metadata": {
        "id": "Tv1Jnam2R1JI",
        "colab_type": "code",
        "outputId": "ef4b3908-9372-474b-e135-e300743760cf",
        "colab": {
          "base_uri": "https://localhost:8080/",
          "height": 34
        }
      },
      "source": [
        "link = 'https://drive.google.com/file/d/1g2hR8VCpBmbQbEnYccyZLeANz490eXC2'\n",
        "trash, id = link.split('/d/')\n",
        "print (id)\n",
        "downloaded = drive.CreateFile({'id':id})"
      ],
      "execution_count": 0,
      "outputs": [
        {
          "output_type": "stream",
          "text": [
            "1g2hR8VCpBmbQbEnYccyZLeANz490eXC2\n"
          ],
          "name": "stdout"
        }
      ]
    },
    {
      "cell_type": "code",
      "metadata": {
        "id": "Wf7MHCjJTqNm",
        "colab_type": "code",
        "colab": {}
      },
      "source": [
        "downloaded.GetContentFile('vgsales.csv')"
      ],
      "execution_count": 0,
      "outputs": []
    },
    {
      "cell_type": "code",
      "metadata": {
        "id": "j7D3GlV9PnFw",
        "colab_type": "code",
        "colab": {}
      },
      "source": [
        "df = pd.read_csv('vgsales.csv')"
      ],
      "execution_count": 0,
      "outputs": []
    },
    {
      "cell_type": "code",
      "metadata": {
        "id": "Jlf0AdvkPnF0",
        "colab_type": "code",
        "colab": {}
      },
      "source": [
        "from sqlalchemy import create_engine\n",
        "from pandas.io import sql\n",
        "engine = create_engine('sqlite:///:memory:')\n",
        "df.to_sql('vgsales',engine)"
      ],
      "execution_count": 0,
      "outputs": []
    },
    {
      "cell_type": "code",
      "metadata": {
        "id": "ZCsf2YHkPnF3",
        "colab_type": "code",
        "colab": {}
      },
      "source": [
        "df.columns"
      ],
      "execution_count": 0,
      "outputs": []
    },
    {
      "cell_type": "code",
      "metadata": {
        "id": "ot05tJhdPnF8",
        "colab_type": "code",
        "outputId": "fb9f3bd2-8848-40ae-9a7b-32b2b26ba900",
        "colab": {}
      },
      "source": [
        "df['Platform'].unique()"
      ],
      "execution_count": 0,
      "outputs": [
        {
          "output_type": "execute_result",
          "data": {
            "text/plain": [
              "array(['Wii', 'NES', 'GB', 'DS', 'X360', 'PS3', 'PS2', 'SNES', 'GBA',\n",
              "       '3DS', 'PS4', 'N64', 'PS', 'XB', 'PC', '2600', 'PSP', 'XOne', 'GC',\n",
              "       'WiiU', 'GEN', 'DC', 'PSV', 'SAT', 'SCD', 'WS', 'NG', 'TG16',\n",
              "       '3DO', 'GG', 'PCFX'], dtype=object)"
            ]
          },
          "metadata": {
            "tags": []
          },
          "execution_count": 4
        }
      ]
    },
    {
      "cell_type": "code",
      "metadata": {
        "id": "PC5-uxoBPnGB",
        "colab_type": "code",
        "colab": {}
      },
      "source": [
        "def ARMformat(a,b,tb):\n",
        "    collect = []\n",
        "    for x in df[a].unique():\n",
        "        q = \"SELECT \"+b+\" FROM \"+tb+\" WHERE \"+a+\"='\"+x+\"'\"\n",
        "        res = pd.read_sql_query(q,engine)\n",
        "        res=res[b].unique()\n",
        "        resclean = []\n",
        "        #pre = res[0]\n",
        "        for i in res:\n",
        "            if i!=None or i!='null' or i!='NaN':\n",
        "                resclean.append(i)\n",
        "                #pre = i\n",
        "            #else\n",
        "                #resclean.append(pre)\n",
        "        resmin = resclean[0:10] #terpaksa biar cepat saja\n",
        "        collect.append(list(resmin))\n",
        "    return collect"
      ],
      "execution_count": 0,
      "outputs": []
    },
    {
      "cell_type": "code",
      "metadata": {
        "id": "dbMUNKyIPnGK",
        "colab_type": "code",
        "outputId": "34128748-5849-4189-c0d5-0400cd3ca623",
        "colab": {}
      },
      "source": [
        "data = ARMformat('Platform','Publisher','vgsales')\n",
        "len(data)"
      ],
      "execution_count": 0,
      "outputs": [
        {
          "output_type": "execute_result",
          "data": {
            "text/plain": [
              "31"
            ]
          },
          "metadata": {
            "tags": []
          },
          "execution_count": 6
        }
      ]
    },
    {
      "cell_type": "code",
      "metadata": {
        "id": "QqQxSi86PnGP",
        "colab_type": "code",
        "outputId": "b47ebeff-e2a3-4bde-c55b-205096e1906e",
        "colab": {}
      },
      "source": [
        "i = 0\n",
        "pre = df['Platform'].unique()\n",
        "for dt in data:\n",
        "    print(pre[i],dt,\"\\n\")\n",
        "    i+=1"
      ],
      "execution_count": 0,
      "outputs": [
        {
          "output_type": "stream",
          "text": [
            "Wii ['Nintendo', 'Ubisoft', 'Sega', '505 Games', 'LucasArts', 'Activision', 'Take-Two Interactive', 'Electronic Arts', 'Warner Bros. Interactive Entertainment', 'Disney Interactive Studios'] \n",
            "\n",
            "NES ['Nintendo', 'Palcom', 'Enix Corporation', 'Namco Bandai Games', 'Capcom', 'Konami Digital Entertainment', 'Hudson Soft', 'SquareSoft', 'Ocean', 'BPS'] \n",
            "\n",
            "GB ['Nintendo', 'Eidos Interactive', 'Konami Digital Entertainment', 'Electronic Arts', 'Enix Corporation', 'Namco Bandai Games', 'Capcom', 'Activision', 'SquareSoft', 'Imagineer'] \n",
            "\n",
            "DS ['Nintendo', '505 Games', 'Sega', 'LucasArts', 'Electronic Arts', 'Activision', 'Disney Interactive Studios', 'Warner Bros. Interactive Entertainment', 'Ubisoft', 'Square Enix'] \n",
            "\n",
            "X360 ['Microsoft Game Studios', 'Take-Two Interactive', 'Activision', 'Bethesda Softworks', 'Electronic Arts', 'Ubisoft', 'Warner Bros. Interactive Entertainment', 'Capcom', 'Eidos Interactive', 'MTV Games'] \n",
            "\n",
            "PS3 ['Take-Two Interactive', 'Activision', 'Sony Computer Entertainment', 'Electronic Arts', 'Bethesda Softworks', 'Ubisoft', 'Konami Digital Entertainment', 'Sony Computer Entertainment Europe', 'Warner Bros. Interactive Entertainment', 'Square Enix'] \n",
            "\n",
            "PS2 ['Take-Two Interactive', 'Sony Computer Entertainment', 'Electronic Arts', 'Konami Digital Entertainment', 'Square Enix', 'Universal Interactive', 'RedOctane', 'Activision', 'Vivendi Games', 'Namco Bandai Games'] \n",
            "\n",
            "SNES ['Nintendo', 'Capcom', 'SquareSoft', 'Enix Corporation', 'Acclaim Entertainment', 'Virgin Interactive', 'Square', 'Banpresto', 'Namco Bandai Games', 'ASCII Entertainment'] \n",
            "\n",
            "GBA ['Nintendo', 'Namco Bandai Games', 'Atari', 'THQ', 'Konami Digital Entertainment', 'Sega', 'Vivendi Games', 'SquareSoft', 'Electronic Arts', 'Square Enix'] \n",
            "\n",
            "3DS ['Nintendo', 'Capcom', 'Level 5', 'Square Enix', 'GungHo', 'Sega', 'LucasArts', 'Marvelous Entertainment', 'Warner Bros. Interactive Entertainment', 'mixi, Inc'] \n",
            "\n",
            "PS4 ['Activision', 'Take-Two Interactive', 'Electronic Arts', 'Bethesda Softworks', 'Sony Computer Entertainment', 'Ubisoft', 'Sony Computer Entertainment Europe', 'Warner Bros. Interactive Entertainment', 'Namco Bandai Games', 'Konami Digital Entertainment'] \n",
            "\n",
            "N64 ['Nintendo', 'THQ', 'Activision', 'Acclaim Entertainment', 'Video System', 'Electronic Arts', 'Namco Bandai Games', 'Ocean', 'Midway Games', 'Hudson Soft'] \n",
            "\n",
            "PS ['Sony Computer Entertainment', 'SquareSoft', 'GT Interactive', 'Konami Digital Entertainment', 'Virgin Interactive', 'Eidos Interactive', 'Activision', 'Atari', 'Enix Corporation', 'Hasbro Interactive'] \n",
            "\n",
            "XB ['Microsoft Game Studios', 'Ubisoft', 'Take-Two Interactive', 'Electronic Arts', 'Activision', 'Sega', 'Vivendi Games', 'Universal Interactive', 'Atari', 'Eidos Interactive'] \n",
            "\n",
            "PC ['Electronic Arts', 'Activision', 'Microsoft Game Studios', 'Vivendi Games', 'Bethesda Softworks', 'Virgin Interactive', 'Red Orb', 'Hasbro Interactive', 'NCSoft', 'Eidos Interactive'] \n",
            "\n",
            "2600 ['Atari', 'Activision', 'Parker Bros.', 'Imagic', 'Coleco', 'Quelle', 'Mystique', '20th Century Fox Video Games', 'Men-A-Vision', 'Tigervision'] \n",
            "\n",
            "PSP ['Take-Two Interactive', 'Capcom', 'Sony Computer Entertainment', 'Square Enix', 'Electronic Arts', 'Activision', 'Konami Digital Entertainment', 'LucasArts', 'Sega', 'Warner Bros. Interactive Entertainment'] \n",
            "\n",
            "XOne ['Activision', 'Take-Two Interactive', 'Microsoft Game Studios', 'Bethesda Softworks', 'Electronic Arts', 'Ubisoft', 'Warner Bros. Interactive Entertainment', 'Square Enix', 'Namco Bandai Games', 'Konami Digital Entertainment'] \n",
            "\n",
            "GC ['Nintendo', 'Sega', 'Infogrames', 'LucasArts', 'Capcom', 'Atari', 'Namco Bandai Games', 'Eidos Interactive', 'Electronic Arts', 'Activision'] \n",
            "\n",
            "WiiU ['Nintendo', 'Ubisoft', 'Namco Bandai Games', 'Warner Bros. Interactive Entertainment', 'Activision', 'Disney Interactive Studios', 'Sega', 'Electronic Arts', 'Microsoft Game Studios', 'Square Enix'] \n",
            "\n",
            "GEN ['Sega', 'Arena Entertainment', 'Virgin Interactive', 'Acclaim Entertainment', 'Capcom', 'Game Arts', 'Konami Digital Entertainment'] \n",
            "\n",
            "DC ['Sega', 'Eidos Interactive', 'Namco Bandai Games', 'Virgin Interactive', 'Ubisoft', 'Genki', 'Acclaim Entertainment', 'Capcom', 'SNK', 'Activision'] \n",
            "\n",
            "PSV ['Sony Computer Entertainment Europe', 'Sony Computer Entertainment', 'Activision', 'Ubisoft', 'Atlus', 'Electronic Arts', 'Square Enix', 'Take-Two Interactive', 'Warner Bros. Interactive Entertainment', 'Sega'] \n",
            "\n",
            "SAT ['Sega', 'Compile', 'Banpresto', 'ESP', 'Namco Bandai Games', 'Atlus', 'Konami Digital Entertainment', 'Elf', 'Capcom', 'Virgin Interactive'] \n",
            "\n",
            "SCD ['Sega'] \n",
            "\n",
            "WS ['SquareSoft', 'Namco Bandai Games'] \n",
            "\n",
            "NG ['SNK', 'Hudson Soft', 'Technos Japan Corporation'] \n",
            "\n",
            "TG16 ['NEC', 'Hudson Soft'] \n",
            "\n",
            "3DO ['Konami Digital Entertainment', 'Micro Cabin', 'Imageworks'] \n",
            "\n",
            "GG ['Sega'] \n",
            "\n",
            "PCFX ['NEC'] \n",
            "\n"
          ],
          "name": "stdout"
        }
      ]
    },
    {
      "cell_type": "markdown",
      "metadata": {
        "id": "quPGn7QEPnGT",
        "colab_type": "text"
      },
      "source": [
        "FPGrowth"
      ]
    },
    {
      "cell_type": "code",
      "metadata": {
        "id": "kb5LSTR6PnGU",
        "colab_type": "code",
        "outputId": "455f06ab-cdaf-494c-992d-1121fc9dab7a",
        "colab": {
          "base_uri": "https://localhost:8080/",
          "height": 207
        }
      },
      "source": [
        "!pip install pyfpgrowth"
      ],
      "execution_count": 0,
      "outputs": [
        {
          "output_type": "stream",
          "text": [
            "Collecting pyfpgrowth\n",
            "\u001b[?25l  Downloading https://files.pythonhosted.org/packages/d2/4c/8b7cd90b4118ff0286d6584909b99e1ca5642bdc9072fa5a8dd361c864a0/pyfpgrowth-1.0.tar.gz (1.6MB)\n",
            "\u001b[K     |████████████████████████████████| 1.6MB 2.9MB/s \n",
            "\u001b[?25hBuilding wheels for collected packages: pyfpgrowth\n",
            "  Building wheel for pyfpgrowth (setup.py) ... \u001b[?25l\u001b[?25hdone\n",
            "  Created wheel for pyfpgrowth: filename=pyfpgrowth-1.0-py2.py3-none-any.whl size=5479 sha256=7583a09419f51e27df9ca1fb44e18a2abd1d63a85c7dbd3e5486a06b0a18c6e9\n",
            "  Stored in directory: /root/.cache/pip/wheels/3b/3f/0d/a04bb8b17887c1eca7d0f1a48d4aa0c09c96eb221ff7fa56c1\n",
            "Successfully built pyfpgrowth\n",
            "Installing collected packages: pyfpgrowth\n",
            "Successfully installed pyfpgrowth-1.0\n"
          ],
          "name": "stdout"
        }
      ]
    },
    {
      "cell_type": "code",
      "metadata": {
        "id": "Sy-BL5m5PnGZ",
        "colab_type": "code",
        "colab": {}
      },
      "source": [
        "import pyfpgrowth"
      ],
      "execution_count": 0,
      "outputs": []
    },
    {
      "cell_type": "code",
      "metadata": {
        "id": "_YTvFvaLPnGd",
        "colab_type": "code",
        "outputId": "612b3d1d-3445-4d30-bf24-fc1e7ceab3bd",
        "colab": {}
      },
      "source": [
        "patterns = pyfpgrowth.find_frequent_patterns(data, 12)\n",
        "for p,d in patterns.items():\n",
        "    print(p,\":\",d)"
      ],
      "execution_count": 0,
      "outputs": [
        {
          "output_type": "stream",
          "text": [
            "('Konami Digital Entertainment',) : 12\n",
            "('Namco Bandai Games',) : 13\n",
            "('Sega',) : 14\n",
            "('Electronic Arts',) : 16\n",
            "('Activision', 'Electronic Arts') : 15\n",
            "('Activision',) : 18\n"
          ],
          "name": "stdout"
        }
      ]
    },
    {
      "cell_type": "code",
      "metadata": {
        "id": "lmY017COPnGg",
        "colab_type": "code",
        "outputId": "ab5f4c78-25ce-4694-9fec-1139372c5ba6",
        "colab": {}
      },
      "source": [
        "rules = pyfpgrowth.generate_association_rules(patterns, 0.5)\n",
        "for p,d in rules.items():\n",
        "    print(p,\"=>\",d)"
      ],
      "execution_count": 0,
      "outputs": [
        {
          "output_type": "stream",
          "text": [
            "('Activision',) => (('Electronic Arts',), 0.8333333333333334)\n",
            "('Electronic Arts',) => (('Activision',), 0.9375)\n"
          ],
          "name": "stdout"
        }
      ]
    },
    {
      "cell_type": "markdown",
      "metadata": {
        "id": "bisTxRZePnGj",
        "colab_type": "text"
      },
      "source": [
        "Apriori"
      ]
    },
    {
      "cell_type": "code",
      "metadata": {
        "id": "0abR3iETPnGk",
        "colab_type": "code",
        "colab": {}
      },
      "source": [
        "!pip install efficient_apriori"
      ],
      "execution_count": 0,
      "outputs": []
    },
    {
      "cell_type": "code",
      "metadata": {
        "id": "U4ZkDDZWPnGo",
        "colab_type": "code",
        "colab": {}
      },
      "source": [
        "from efficient_apriori import apriori"
      ],
      "execution_count": 0,
      "outputs": []
    },
    {
      "cell_type": "code",
      "metadata": {
        "id": "M9ZdHKXIPnGs",
        "colab_type": "code",
        "colab": {}
      },
      "source": [
        "itemsets, rules = apriori(data, min_support=0.4,  min_confidence=0.2)"
      ],
      "execution_count": 0,
      "outputs": []
    },
    {
      "cell_type": "code",
      "metadata": {
        "id": "NfhfUPXePnGx",
        "colab_type": "code",
        "outputId": "75869fd5-d1f9-47dd-ddc9-fca46f51ffb8",
        "colab": {}
      },
      "source": [
        "hasil = []\n",
        "for x in rules:\n",
        "    hasil.append([str(x.lhs)+\"=>\"+str(x.rhs),x.support,x.confidence,x.lift,x.conviction])\n",
        "    print(str(x.lhs)+\"=>\"+str(x.rhs),x.support,x.confidence,x.lift,x.conviction,sep=\"\\t\")"
      ],
      "execution_count": 0,
      "outputs": [
        {
          "output_type": "stream",
          "text": [
            "('Electronic Arts',)=>('Activision',)\t0.4838709677419355\t0.9375\t1.6145833333333335\t6.709677312000001\n",
            "('Activision',)=>('Electronic Arts',)\t0.4838709677419355\t0.8333333333333334\t1.6145833333333335\t2.903225789032259\n"
          ],
          "name": "stdout"
        }
      ]
    },
    {
      "cell_type": "code",
      "metadata": {
        "id": "iUJws3iWPnG0",
        "colab_type": "code",
        "colab": {}
      },
      "source": [
        ""
      ],
      "execution_count": 0,
      "outputs": []
    }
  ]
}